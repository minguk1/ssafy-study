{
 "cells": [
  {
   "attachments": {},
   "cell_type": "markdown",
   "metadata": {},
   "source": [
    "americano = 2000\n",
    "\n",
    "print(2000)"
   ]
  },
  {
   "cell_type": "code",
   "execution_count": 1,
   "metadata": {},
   "outputs": [
    {
     "name": "stdout",
     "output_type": "stream",
     "text": [
      "2000\n"
     ]
    }
   ],
   "source": [
    "americano = 3000\n",
    "\n",
    "print(americano)\n",
    "print(americano * 2)"
   ]
  },
  {
   "cell_type": "code",
   "execution_count": 3,
   "metadata": {},
   "outputs": [
    {
     "name": "stdout",
     "output_type": "stream",
     "text": [
      "20 10\n"
     ]
    }
   ],
   "source": [
    "x = 10\n",
    "y = 20\n",
    "\n",
    "# x의 값을 바꾸기 전에 다른곳에 저장해 주자.\n",
    "# temp = x # 원래 값을 기억\n",
    "# x = y # x = 20 , y = 20\n",
    "# y = temp # x = 20 , y = 10\n",
    "x , y = y , x # 파이써닉한 방법\n",
    "\n",
    "print(x, y)"
   ]
  },
  {
   "cell_type": "code",
   "execution_count": 17,
   "metadata": {},
   "outputs": [
    {
     "name": "stdout",
     "output_type": "stream",
     "text": [
      "첫번째줄\n",
      "두번째줄\n",
      "HELLOWORLD\n",
      "HELLOHELLOHELLO\n",
      "아메리카노는 2000원이고 라떼는 4000원 입니다.\n",
      "아메리카노는 2000원이고 라떼는 4000원 입니다.\n"
     ]
    }
   ],
   "source": [
    "print(\"첫번째줄\\n두번째줄\")\n",
    "\n",
    "print(\"HELLO\" + \"WORLD\")\n",
    "print(\"HELLO\" * 3)\n",
    "\n",
    "ame = 2000\n",
    "latte = 4000\n",
    "\n",
    "# + 연산자를 통한 문자열 연결 str() => 문자열로 만들어주는 함수\n",
    "str1 = \"아메리카노는 \" + str(ame) + \"원이고 라떼는 \" + str(latte) + \"원 입니다.\"\n",
    "# f-string 사용\n",
    "str2 = f\"아메리카노는 {ame}원이고 라떼는 {latte}원 입니다.\"\n",
    "\n",
    "print(str1)\n",
    "print(str2)\n",
    "\n"
   ]
  },
  {
   "cell_type": "code",
   "execution_count": 23,
   "metadata": {},
   "outputs": [
    {
     "name": "stdout",
     "output_type": "stream",
     "text": [
      "False\n",
      "True\n",
      "True\n",
      "False\n",
      "False\n"
     ]
    }
   ],
   "source": [
    "print(3 == 4)\n",
    "print(3 == 3)\n",
    "print(4 > 3)\n",
    "\n",
    "print(\"3\" == 3)\n",
    "print(\"HI\" == \"Hi\") # 문자열을 비교할때는 대소문자도 같아야 같은걸로 취급 한다."
   ]
  },
  {
   "cell_type": "code",
   "execution_count": 30,
   "metadata": {},
   "outputs": [
    {
     "name": "stdout",
     "output_type": "stream",
     "text": [
      "True\n",
      "False\n",
      "False\n",
      "False\n",
      "=============\n",
      "True\n",
      "True\n",
      "True\n",
      "False\n"
     ]
    }
   ],
   "source": [
    "print(3 == 3 and 4 == 4) # True True => True\n",
    "print(4 == 3 and 4 == 4) # False True => False\n",
    "print(4 == 4 and 4 == 3) # True False => False\n",
    "print(False and False)\n",
    "\n",
    "print(\"=============\")\n",
    "\n",
    "print(True or True)\n",
    "print(True or False)\n",
    "print(False or True)\n",
    "print(False or False)\n"
   ]
  },
  {
   "cell_type": "code",
   "execution_count": 35,
   "metadata": {},
   "outputs": [
    {
     "name": "stdout",
     "output_type": "stream",
     "text": [
      "10\n"
     ]
    }
   ],
   "source": [
    "dust = [1,2,3,4,5,6,7,8,9,10]\n",
    "\n",
    "# dust[i] i는 인덱스\n",
    "# 컴퓨터는 숫자를 0부터 센다. 인덱스도 0부터 시작한다.\n",
    "# 인덱스의 범위 : 0 ~ 리스트길이-1\n",
    "# 음수 인덱스 사용가능(뒤에서부터 센다.)\n",
    "print(dust[-1])\n"
   ]
  },
  {
   "cell_type": "code",
   "execution_count": 38,
   "metadata": {},
   "outputs": [
    {
     "name": "stdout",
     "output_type": "stream",
     "text": [
      "A\n",
      "B\n",
      "['C', 'D', 'E']\n",
      "C\n",
      "D\n",
      "E\n"
     ]
    }
   ],
   "source": [
    "my_list = [\"A\", \"B\" , [\"C\" , \"D\", \"E\"]]\n",
    "\n",
    "print(my_list[0])\n",
    "print(my_list[1])\n",
    "print(my_list[2])\n",
    "# my_list[2] == [\"C\", \"D\", \"E\"]\n",
    "print(my_list[2][0])\n",
    "print(my_list[2][1])\n",
    "print(my_list[2][2])"
   ]
  },
  {
   "cell_type": "code",
   "execution_count": null,
   "metadata": {},
   "outputs": [],
   "source": [
    "a = (1,2,3,4,5,)"
   ]
  },
  {
   "cell_type": "code",
   "execution_count": 41,
   "metadata": {},
   "outputs": [
    {
     "name": "stdout",
     "output_type": "stream",
     "text": [
      "['a', 'b', 'c']\n"
     ]
    }
   ],
   "source": [
    "my_dict = { \"a\" : \"AAA\" , \"b\" : \"BBB\" , \"c\" : \"CCC\"}\n",
    "my_list = list(my_dict)\n",
    "\n",
    "print(my_list)"
   ]
  }
 ],
 "metadata": {
  "kernelspec": {
   "display_name": "Python 3",
   "language": "python",
   "name": "python3"
  },
  "language_info": {
   "codemirror_mode": {
    "name": "ipython",
    "version": 3
   },
   "file_extension": ".py",
   "mimetype": "text/x-python",
   "name": "python",
   "nbconvert_exporter": "python",
   "pygments_lexer": "ipython3",
   "version": "3.11.1 (tags/v3.11.1:a7a450f, Dec  6 2022, 19:58:39) [MSC v.1934 64 bit (AMD64)]"
  },
  "orig_nbformat": 4,
  "vscode": {
   "interpreter": {
    "hash": "719d7831d19870063e330dda2d280f99c099d6e03609ad07b17f717f2336b29a"
   }
  }
 },
 "nbformat": 4,
 "nbformat_minor": 2
}
