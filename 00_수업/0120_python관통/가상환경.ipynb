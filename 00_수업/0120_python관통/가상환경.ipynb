{
 "cells": [
  {
   "attachments": {},
   "cell_type": "markdown",
   "metadata": {},
   "source": [
    "## 가상 환경\n",
    "\n",
    "- 프로젝트마다 다른 실행 환경을 위해서 전역 설정과 독립적인 실행 환경을 생성\n",
    "\n",
    "## 주의해야 할점 : 꼭 작업 경로를 확인해라\n",
    "\n",
    "### 가상환경 생성 방법\n",
    "\n",
    "```\n",
    "python -m venv <폴더이름>\n",
    "```\n",
    "\n",
    "### 가성환경 활성화 방법 (bash 기준)\n",
    "```\n",
    "source <폴더이름>/Scripts/activate\n",
    "```\n",
    "\n",
    "### 환경에서 사용했던 패키지 목록 추출 방법\n",
    "```\n",
    "pip freeze > <파일이름>\n",
    "```\n",
    "\n",
    "### 다른 환경에서 패키지 목록 사용해서 설치하기\n",
    "```\n",
    "pip install -r <파일이름>\n",
    "```"
   ]
  }
 ],
 "metadata": {
  "language_info": {
   "name": "python"
  },
  "orig_nbformat": 4
 },
 "nbformat": 4,
 "nbformat_minor": 2
}
