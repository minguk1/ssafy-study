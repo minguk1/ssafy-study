{
 "cells": [
  {
   "cell_type": "code",
   "execution_count": 3,
   "metadata": {},
   "outputs": [
    {
     "name": "stdout",
     "output_type": "stream",
     "text": [
      "10\n",
      "20\n",
      "20\n",
      "10\n"
     ]
    }
   ],
   "source": [
    "# global\n",
    "v1 = 10\n",
    "\n",
    "def func1():\n",
    "    # func1 의 local\n",
    "    v2 = 20\n",
    "    print(v1)\n",
    "    print(v2)\n",
    "\n",
    "def func2():\n",
    "    # func2 의 local\n",
    "    v3 = 20\n",
    "    print(v3)\n",
    "    print(v1)\n",
    "    # print(v2) => v2는 func1의 변수이기 때문에 사용할수 없음\n",
    "\n",
    "func1()\n",
    "func2()\n"
   ]
  }
 ],
 "metadata": {
  "kernelspec": {
   "display_name": "Python 3",
   "language": "python",
   "name": "python3"
  },
  "language_info": {
   "codemirror_mode": {
    "name": "ipython",
    "version": 3
   },
   "file_extension": ".py",
   "mimetype": "text/x-python",
   "name": "python",
   "nbconvert_exporter": "python",
   "pygments_lexer": "ipython3",
   "version": "3.11.1"
  },
  "orig_nbformat": 4,
  "vscode": {
   "interpreter": {
    "hash": "719d7831d19870063e330dda2d280f99c099d6e03609ad07b17f717f2336b29a"
   }
  }
 },
 "nbformat": 4,
 "nbformat_minor": 2
}
