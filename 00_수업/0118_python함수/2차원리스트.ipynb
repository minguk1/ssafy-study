{
 "cells": [
  {
   "cell_type": "code",
   "execution_count": 6,
   "metadata": {},
   "outputs": [
    {
     "name": "stdout",
     "output_type": "stream",
     "text": [
      "[[0, 0, 0], [0, 0, 0], [0, 0, 0]]\n",
      "0\n",
      "0\n",
      "0\n",
      "0\n",
      "0\n",
      "0\n",
      "0\n",
      "0\n",
      "0\n",
      "0 1\n",
      "2 1\n",
      "1 0\n",
      "1 2\n"
     ]
    }
   ],
   "source": [
    "N = 3\n",
    "\n",
    "list_list = [[0] * N for i in range(N)]\n",
    "\n",
    "print(list_list)\n",
    "\n",
    "# 2차원 리스트 모두 출력하기\n",
    "# N * N 크기의 2차원 리스트\n",
    "# 큰 리스트의 길이\n",
    "for x in range(N):\n",
    "    # 작은 리스트의 길이\n",
    "    for y in range(N):\n",
    "        print(list_list[x][y])\n",
    "\n",
    "\n",
    "# 내 현재 위치\n",
    "# now[0] = x\n",
    "# now[1] = y\n",
    "now = [1,1]\n",
    "\n",
    "# 델타 배열\n",
    "# 이 배열이 의미하는것\n",
    "# dx[0] => 상으로 움직인다\n",
    "# 인덱스가 0이면 상\n",
    "# 인덱스가 1이면 하\n",
    "# 인덱스가 2이면 좌\n",
    "# 인덱스가 3이면 우\n",
    "dx = [-1,1,0,0] # x의 변화\n",
    "dy = [0,0,-1,1] # y의 변화\n",
    "\n",
    "# 현재 위치에서 상하좌우로 한번 움직여보기\n",
    "for d in range(4):\n",
    "    nx = now[0] + dx[d]\n",
    "    ny = now[1] + dy[d]\n",
    "    print(nx, ny)\n",
    "\n"
   ]
  },
  {
   "cell_type": "code",
   "execution_count": 9,
   "metadata": {},
   "outputs": [
    {
     "name": "stdout",
     "output_type": "stream",
     "text": [
      "[[0, 0, 0, 0, 0], [0, 0, 0, 0, 0], [0, 0, 0, 0, 0], [0, 0, 0, 0, 0], [0, 0, 0, 0, 0]]\n",
      "3 2\n",
      "3 3\n",
      "3 4\n",
      "최종 위치 : (3,4)\n"
     ]
    }
   ],
   "source": [
    "N = 5\n",
    "\n",
    "list2 = [[0] * N for _ in range(N)]\n",
    "\n",
    "print(list2)\n",
    "\n",
    "now = [2,2]\n",
    "x = 2\n",
    "y = 2\n",
    "\n",
    "# 하 우 우 로 움직이고나서 좌표는 어디일까요??\n",
    "# 1  3  3 \n",
    "\n",
    "# 상 하 좌 우\n",
    "# 0  1  2  3\n",
    "moves = [1,3,3]\n",
    "\n",
    "# 상하좌우\n",
    "dx = [-1,1,0,0]\n",
    "dy = [0,0,-1,1]\n",
    "\n",
    "# 동서남북\n",
    "# 우좌하상\n",
    "# dx = [0,0,1,-1]\n",
    "# dy = [1,-1,0,0]\n",
    "\n",
    "# d는 방향\n",
    "# d = 0 ?? 상\n",
    "# d = 1 ?? 하\n",
    "# d = 2 ?? 좌\n",
    "# d = 3 ?? 우\n",
    "for d in moves:\n",
    "    nx = now[0] + dx[d]\n",
    "    ny = now[1] + dy[d]\n",
    "    print(nx, ny)\n",
    "    now = [nx,ny] # 현재 위치 최신화\n",
    "\n",
    "print(f\"최종 위치 : ({now[0]},{now[1]})\")\n",
    "\n"
   ]
  }
 ],
 "metadata": {
  "kernelspec": {
   "display_name": "Python 3",
   "language": "python",
   "name": "python3"
  },
  "language_info": {
   "codemirror_mode": {
    "name": "ipython",
    "version": 3
   },
   "file_extension": ".py",
   "mimetype": "text/x-python",
   "name": "python",
   "nbconvert_exporter": "python",
   "pygments_lexer": "ipython3",
   "version": "3.11.1"
  },
  "orig_nbformat": 4,
  "vscode": {
   "interpreter": {
    "hash": "719d7831d19870063e330dda2d280f99c099d6e03609ad07b17f717f2336b29a"
   }
  }
 },
 "nbformat": 4,
 "nbformat_minor": 2
}
