{
 "cells": [
  {
   "attachments": {},
   "cell_type": "markdown",
   "metadata": {},
   "source": [
    "## 3-1."
   ]
  },
  {
   "cell_type": "code",
   "execution_count": 2,
   "metadata": {},
   "outputs": [
    {
     "name": "stdout",
     "output_type": "stream",
     "text": [
      "['apple', 'rottenBanana', 'apple', 'RoTTenOrange', 'Orange']\n",
      "['apple', 'banana', 'apple', 'orange', 'orange']\n"
     ]
    }
   ],
   "source": [
    "fruit_bag = input(\"과일 봉지를 입력 : \").split(\",\")\n",
    "\n",
    "print(fruit_bag)\n",
    "\n",
    "fresh_bag = []\n",
    "\n",
    "for fruit in fruit_bag:\n",
    "    # lower() => 문자열을 모두 소문자로 변환\n",
    "    # upper() => 문자열을 모두 대문자로 변환\n",
    "    fruit = fruit.lower()\n",
    "    # 문자열에서 \"rotten\" 이라는 단어가 포함되어 있으면 삭제\n",
    "    # replace(a, b) => 문자열 대체 함수 a를 찾아서 그자리를 b로 대체\n",
    "    fruit = fruit.replace(\"rotten\" , \"\")\n",
    "    # 리스트에 원소를 추가\n",
    "    fresh_bag.append(fruit)\n",
    "\n",
    "print(fresh_bag)"
   ]
  },
  {
   "cell_type": "code",
   "execution_count": 4,
   "metadata": {},
   "outputs": [
    {
     "name": "stdout",
     "output_type": "stream",
     "text": [
      "c\n"
     ]
    }
   ],
   "source": [
    "# 3-2.\n",
    "\n",
    "word = input(\"문자열을 입력하시오\")\n",
    "\n",
    "# 문자열의 길이가 짝수? 홀수?\n",
    "mid = len(word) // 2\n",
    "\n",
    "if len(word) % 2:\n",
    "    # 홀수인 경우\n",
    "    middle = word[mid]\n",
    "else:\n",
    "    # 짝수인 경우\n",
    "    middle = word[mid-1:mid+1]\n",
    "\n",
    "print(middle)\n"
   ]
  },
  {
   "cell_type": "code",
   "execution_count": 9,
   "metadata": {},
   "outputs": [
    {
     "name": "stdout",
     "output_type": "stream",
     "text": [
      "34\n"
     ]
    }
   ],
   "source": [
    "# 3-3.\n",
    "\n",
    "\n",
    "infos = [{'name': 'kim', 'age': 12}, {'name': 'lee', 'age': 4},{'name': 'lee', 'age': 18}]\n",
    "\n",
    "# 나이의 합\n",
    "age_sum = 0\n",
    "\n",
    "for info in infos:\n",
    "    # print(info)\n",
    "    age_sum += info[\"age\"]\n",
    "\n",
    "# age_sum = sum([info[\"age\"] for info in infos])\n",
    "\n",
    "print(age_sum)"
   ]
  },
  {
   "cell_type": "code",
   "execution_count": 11,
   "metadata": {},
   "outputs": [
    {
     "name": "stdout",
     "output_type": "stream",
     "text": [
      "{'A': 4, 'O': 4, 'B': 3, 'AB': 2}\n"
     ]
    }
   ],
   "source": [
    "# 3-4.\n",
    "\n",
    "blood_types = ['A', 'A', 'O', 'B', 'A', 'O', 'AB', 'O', 'A', 'B', 'O', 'B', 'AB']\n",
    "\n",
    "# key = 혈액형, value = 인원수\n",
    "blood_dict = {}\n",
    "\n",
    "for blood in blood_types:\n",
    "    if blood_dict.get(blood):\n",
    "        # 안에 blood 혈액형이 있는 경우\n",
    "        blood_dict[blood] += 1\n",
    "    else:\n",
    "        # 안에 blood 혈액형이 없는 경우 => 새로운 혈액형 추가\n",
    "        blood_dict[blood] = 1\n",
    "\n",
    "print(blood_dict)"
   ]
  }
 ],
 "metadata": {
  "kernelspec": {
   "display_name": "Python 3",
   "language": "python",
   "name": "python3"
  },
  "language_info": {
   "codemirror_mode": {
    "name": "ipython",
    "version": 3
   },
   "file_extension": ".py",
   "mimetype": "text/x-python",
   "name": "python",
   "nbconvert_exporter": "python",
   "pygments_lexer": "ipython3",
   "version": "3.11.1 (tags/v3.11.1:a7a450f, Dec  6 2022, 19:58:39) [MSC v.1934 64 bit (AMD64)]"
  },
  "orig_nbformat": 4,
  "vscode": {
   "interpreter": {
    "hash": "719d7831d19870063e330dda2d280f99c099d6e03609ad07b17f717f2336b29a"
   }
  }
 },
 "nbformat": 4,
 "nbformat_minor": 2
}
