{
 "cells": [
  {
   "cell_type": "code",
   "execution_count": 2,
   "metadata": {},
   "outputs": [
    {
     "name": "stdout",
     "output_type": "stream",
     "text": [
      "2219747902400\n",
      "2219747902400\n",
      "[0, 80, 100]\n",
      "[0, 80, 100]\n"
     ]
    }
   ],
   "source": [
    "scores = [90,80,100]\n",
    "\n",
    "# 얕은 복사\n",
    "new_scores = scores\n",
    "\n",
    "print(id(scores))\n",
    "print(id(new_scores))\n",
    "\n",
    "new_scores[0] = 0\n",
    "\n",
    "print(scores)\n",
    "print(new_scores)\n",
    "\n",
    "# 깊은 복사 2"
   ]
  },
  {
   "cell_type": "code",
   "execution_count": 5,
   "metadata": {},
   "outputs": [
    {
     "name": "stdout",
     "output_type": "stream",
     "text": [
      "2219748015168\n",
      "2219747910592\n"
     ]
    }
   ],
   "source": [
    "# 깊은 복사 1\n",
    "scores = [90,80,100]\n",
    "new_scores = []\n",
    "\n",
    "for num in scores:\n",
    "    new_scores.append(num)\n",
    "    \n",
    "print(id(scores))\n",
    "print(id(new_scores))"
   ]
  },
  {
   "cell_type": "code",
   "execution_count": 6,
   "metadata": {},
   "outputs": [
    {
     "name": "stdout",
     "output_type": "stream",
     "text": [
      "2219748017792\n",
      "2219747960128\n"
     ]
    }
   ],
   "source": [
    "from copy import deepcopy\n",
    "\n",
    "# 깊은 복사 2\n",
    "scores = [90,80,100]\n",
    "new_scores = deepcopy(scores)\n",
    "\n",
    "print(id(scores))\n",
    "print(id(new_scores))"
   ]
  },
  {
   "cell_type": "code",
   "execution_count": 8,
   "metadata": {},
   "outputs": [
    {
     "name": "stdout",
     "output_type": "stream",
     "text": [
      "2219725447488\n",
      "2219747299392\n",
      "2219747296704\n",
      "2219747296704\n"
     ]
    }
   ],
   "source": [
    "# 깊은복사처럼 보이지만 실제로는 얕은 복사\n",
    "scores = [10,20,30]\n",
    "new_scores = scores[:]\n",
    "\n",
    "print(id(scores))\n",
    "print(id(new_scores))\n",
    "\n",
    "# 리스트 안에 참조(리스트, 객체 등)가 존재하면..\n",
    "scores =[10,20,[30,40]]\n",
    "new_scores = scores[:]\n",
    "\n",
    "print(id(scores[2]))\n",
    "print(id(new_scores[2]))\n"
   ]
  },
  {
   "cell_type": "code",
   "execution_count": 11,
   "metadata": {},
   "outputs": [
    {
     "name": "stdout",
     "output_type": "stream",
     "text": [
      "2219725598896\n",
      "2219725598896\n"
     ]
    }
   ],
   "source": [
    "# 문자열\n",
    "from copy import deepcopy\n",
    "\n",
    "a = \"12345\"\n",
    "\n",
    "# 나는 분명히 깊은 복사를 했는데?\n",
    "b = deepcopy(a)\n",
    "\n",
    "print(id(a))\n",
    "print(id(b))\n",
    "\n",
    "# 문자열은 불변(리스트는 가변), 같은 데이터를 다시 만들지 않는다. 메모리 절약"
   ]
  }
 ],
 "metadata": {
  "kernelspec": {
   "display_name": "Python 3",
   "language": "python",
   "name": "python3"
  },
  "language_info": {
   "codemirror_mode": {
    "name": "ipython",
    "version": 3
   },
   "file_extension": ".py",
   "mimetype": "text/x-python",
   "name": "python",
   "nbconvert_exporter": "python",
   "pygments_lexer": "ipython3",
   "version": "3.11.1"
  },
  "orig_nbformat": 4,
  "vscode": {
   "interpreter": {
    "hash": "719d7831d19870063e330dda2d280f99c099d6e03609ad07b17f717f2336b29a"
   }
  }
 },
 "nbformat": 4,
 "nbformat_minor": 2
}
