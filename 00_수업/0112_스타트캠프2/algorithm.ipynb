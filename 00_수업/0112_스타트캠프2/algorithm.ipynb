{
 "cells": [
  {
   "cell_type": "code",
   "execution_count": 6,
   "metadata": {},
   "outputs": [
    {
     "name": "stdout",
     "output_type": "stream",
     "text": [
      "4\n"
     ]
    }
   ],
   "source": [
    "import random\n",
    "\n",
    "print(random.randrange(1,45))"
   ]
  },
  {
   "attachments": {},
   "cell_type": "markdown",
   "metadata": {},
   "source": [
    "## 주피터 노트북\n",
    "\n",
    "- ```pip install jupyter```\n",
    "- ```pip install ipykernel```\n",
    "- ```code --install-extension ms-toolsai.jupyter```\n",
    "\n",
    "vscode 재시작\n"
   ]
  },
  {
   "attachments": {},
   "cell_type": "markdown",
   "metadata": {},
   "source": [
    "# 최빈수 구하기"
   ]
  },
  {
   "cell_type": "code",
   "execution_count": 10,
   "metadata": {},
   "outputs": [],
   "source": [
    "T = int(input())\n",
    "\n",
    "for tc in range(1,T+1):\n",
    "    t = int(input())\n",
    "\n",
    "    scores = list(map(int, input().split()))\n",
    "\n",
    "    score_cnt = [0] * 101\n",
    "\n",
    "    for score in scores:\n",
    "        score_cnt[score] += 1\n",
    "\n",
    "    max_cnt = 0\n",
    "    max_score = 0\n",
    "\n",
    "    for i in range(1,101):\n",
    "        if score_cnt[i] >= max_cnt:\n",
    "            max_cnt = score_cnt[i]\n",
    "            if i > max_score :\n",
    "                max_score = i\n",
    "\n",
    "    print(f\"#{tc} {max_score}\")"
   ]
  }
 ],
 "metadata": {
  "kernelspec": {
   "display_name": "Python 3",
   "language": "python",
   "name": "python3"
  },
  "language_info": {
   "codemirror_mode": {
    "name": "ipython",
    "version": 3
   },
   "file_extension": ".py",
   "mimetype": "text/x-python",
   "name": "python",
   "nbconvert_exporter": "python",
   "pygments_lexer": "ipython3",
   "version": "3.11.1 (tags/v3.11.1:a7a450f, Dec  6 2022, 19:58:39) [MSC v.1934 64 bit (AMD64)]"
  },
  "orig_nbformat": 4,
  "vscode": {
   "interpreter": {
    "hash": "719d7831d19870063e330dda2d280f99c099d6e03609ad07b17f717f2336b29a"
   }
  }
 },
 "nbformat": 4,
 "nbformat_minor": 2
}
