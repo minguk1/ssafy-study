{
 "cells": [
  {
   "cell_type": "code",
   "execution_count": 3,
   "metadata": {},
   "outputs": [
    {
     "name": "stdout",
     "output_type": "stream",
     "text": [
      "5 초과\n",
      "5 초과\n",
      "여기는 조건문이 아님\n"
     ]
    }
   ],
   "source": [
    "a = 10\n",
    "\n",
    "if a > 5:\n",
    "    print(\"5 초과\")\n",
    "    print(\"5 초과\")\n",
    "print(\"여기는 조건문이 아님\")\n"
   ]
  },
  {
   "cell_type": "code",
   "execution_count": 5,
   "metadata": {},
   "outputs": [
    {
     "name": "stdout",
     "output_type": "stream",
     "text": [
      "9\n"
     ]
    }
   ],
   "source": [
    "a = 9\n",
    "\n",
    "if a > 5 :\n",
    "\n",
    "    if a >= 10:\n",
    "        print(\"a는 10 이상\")\n",
    "    print(a)"
   ]
  },
  {
   "cell_type": "code",
   "execution_count": 8,
   "metadata": {},
   "outputs": [
    {
     "name": "stdout",
     "output_type": "stream",
     "text": [
      "0\n",
      "1\n",
      "2\n",
      "3\n",
      "4\n",
      "끝\n"
     ]
    }
   ],
   "source": [
    "a = 0\n",
    "\n",
    "while a < 5:\n",
    "    print(a)\n",
    "    a += 1\n",
    "\n",
    "\n",
    "print(\"끝\")"
   ]
  },
  {
   "cell_type": "code",
   "execution_count": 9,
   "metadata": {},
   "outputs": [
    {
     "name": "stdout",
     "output_type": "stream",
     "text": [
      "5\n",
      "4\n",
      "3\n",
      "2\n",
      "1\n",
      "끝\n"
     ]
    }
   ],
   "source": [
    "a = 5\n",
    "\n",
    "while a > 0 :\n",
    "    print(a)\n",
    "    a -= 1\n",
    "\n",
    "print(\"끝\")"
   ]
  },
  {
   "cell_type": "code",
   "execution_count": 13,
   "metadata": {},
   "outputs": [
    {
     "name": "stdout",
     "output_type": "stream",
     "text": [
      "사과\n",
      "바나나\n",
      "멜론\n",
      "딸기\n",
      "끝\n",
      "0\n",
      "1\n",
      "2\n",
      "3\n",
      "4\n"
     ]
    }
   ],
   "source": [
    "fruits = [\"사과\" , \"바나나\" , \"멜론\" , \"딸기\"]\n",
    "\n",
    "for fruit in fruits:\n",
    "    print(fruit)\n",
    "print(\"끝\")\n",
    "\n",
    "# for _ in range(5): _ 는 아무 의미 없을때 사용 \n",
    "#     print()"
   ]
  },
  {
   "cell_type": "code",
   "execution_count": 16,
   "metadata": {},
   "outputs": [
    {
     "name": "stdout",
     "output_type": "stream",
     "text": [
      "[1, 4, 9, 16, 25, 36, 49, 64, 81, 100]\n",
      "[1, 4, 9, 16, 25, 36, 49, 64, 81, 100]\n",
      "[4, 16, 36, 64, 100]\n"
     ]
    }
   ],
   "source": [
    "# 1 부터 10까지 숫자를 제곱 해서 리스트 만들기\n",
    "# my_list = [1, 4, 9 , ...]\n",
    "\n",
    "my_list = []\n",
    "for i in range(1,11):\n",
    "    my_list.append(i * i)\n",
    "\n",
    "print(my_list)\n",
    "\n",
    "my_list = [num**2 for num in range(1,11)]\n",
    "print(my_list)\n",
    "\n",
    "# 나는 여기서 짝수의 제곱만 넣고 싶다. => if 로 조건식 추가\n",
    "my_list = [num**2 for num in range(1,11) if num % 2 == 0]\n",
    "print(my_list)"
   ]
  },
  {
   "cell_type": "code",
   "execution_count": 18,
   "metadata": {},
   "outputs": [
    {
     "name": "stdout",
     "output_type": "stream",
     "text": [
      "{1: 1, 2: 4, 3: 9, 4: 16, 5: 25, 6: 36, 7: 49, 8: 64, 9: 81, 10: 100}\n",
      "{2: 4, 4: 16, 6: 36, 8: 64, 10: 100}\n"
     ]
    }
   ],
   "source": [
    "# key = num , value = num**2 \n",
    "my_dict = {num : num**2 for num in range(1,11)}\n",
    "print(my_dict)\n",
    "\n",
    "# 짝수만 만들고 싶다.\n",
    "my_dict = {num : num**2 for num in range(1,11) if num % 2 == 0}\n",
    "print(my_dict)"
   ]
  },
  {
   "cell_type": "code",
   "execution_count": 22,
   "metadata": {},
   "outputs": [
    {
     "name": "stdout",
     "output_type": "stream",
     "text": [
      "2 * 1 = 2\n",
      "2 * 2 = 4\n",
      "2 * 3 = 6\n",
      "2 * 4 = 8\n",
      "2 * 6 = 12\n",
      "2 * 7 = 14\n",
      "2 * 8 = 16\n",
      "2 * 9 = 18\n",
      "3 * 1 = 2\n",
      "3 * 2 = 4\n",
      "3 * 3 = 6\n",
      "3 * 4 = 8\n",
      "3 * 6 = 12\n",
      "3 * 7 = 14\n",
      "3 * 8 = 16\n",
      "3 * 9 = 18\n",
      "4 * 1 = 2\n",
      "4 * 2 = 4\n",
      "4 * 3 = 6\n",
      "4 * 4 = 8\n",
      "4 * 6 = 12\n",
      "4 * 7 = 14\n",
      "4 * 8 = 16\n",
      "4 * 9 = 18\n",
      "5 * 1 = 2\n",
      "5 * 2 = 4\n",
      "5 * 3 = 6\n",
      "5 * 4 = 8\n",
      "5 * 6 = 12\n",
      "5 * 7 = 14\n",
      "5 * 8 = 16\n",
      "5 * 9 = 18\n",
      "6 * 1 = 2\n",
      "6 * 2 = 4\n",
      "6 * 3 = 6\n",
      "6 * 4 = 8\n",
      "6 * 6 = 12\n",
      "6 * 7 = 14\n",
      "6 * 8 = 16\n",
      "6 * 9 = 18\n",
      "7 * 1 = 2\n",
      "7 * 2 = 4\n",
      "7 * 3 = 6\n",
      "7 * 4 = 8\n",
      "7 * 6 = 12\n",
      "7 * 7 = 14\n",
      "7 * 8 = 16\n",
      "7 * 9 = 18\n",
      "8 * 1 = 2\n",
      "8 * 2 = 4\n",
      "8 * 3 = 6\n",
      "8 * 4 = 8\n",
      "8 * 6 = 12\n",
      "8 * 7 = 14\n",
      "8 * 8 = 16\n",
      "8 * 9 = 18\n",
      "9 * 1 = 2\n",
      "9 * 2 = 4\n",
      "9 * 3 = 6\n",
      "9 * 4 = 8\n",
      "9 * 6 = 12\n",
      "9 * 7 = 14\n",
      "9 * 8 = 16\n",
      "9 * 9 = 18\n"
     ]
    }
   ],
   "source": [
    "\n",
    "# continue 사용\n",
    "\n",
    "# 2단부터 9단까지 출력\n",
    "# 중간에 5를 곱하는 부분은 빼고 출력\n",
    "\n",
    "# 중간에 5를 만나는순간 반복을 종료해라??\n",
    "\n",
    "# 2 * 1 = 2\n",
    "# 2 * 2 = 4\n",
    "# 2 * 3 = 6\n",
    "# 2 * 4 = 8\n",
    "# 2 * 6 = 12\n",
    "# 2 * 7 = 14\n",
    "# 2 * 8 = 16\n",
    "# 2 * 9 = 18\n",
    "# ...\n",
    "\n",
    "for left in range(2,10):\n",
    "    for num in range(1,10):\n",
    "        if num == 5:\n",
    "            continue\n",
    "        print(f\"{left} * {num} = {2*num}\")\n",
    "\n"
   ]
  }
 ],
 "metadata": {
  "kernelspec": {
   "display_name": "Python 3",
   "language": "python",
   "name": "python3"
  },
  "language_info": {
   "codemirror_mode": {
    "name": "ipython",
    "version": 3
   },
   "file_extension": ".py",
   "mimetype": "text/x-python",
   "name": "python",
   "nbconvert_exporter": "python",
   "pygments_lexer": "ipython3",
   "version": "3.11.1 (tags/v3.11.1:a7a450f, Dec  6 2022, 19:58:39) [MSC v.1934 64 bit (AMD64)]"
  },
  "orig_nbformat": 4,
  "vscode": {
   "interpreter": {
    "hash": "719d7831d19870063e330dda2d280f99c099d6e03609ad07b17f717f2336b29a"
   }
  }
 },
 "nbformat": 4,
 "nbformat_minor": 2
}
